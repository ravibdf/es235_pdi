{
  "nbformat": 4,
  "nbformat_minor": 0,
  "metadata": {
    "colab": {
      "name": "lab.ipynb",
      "provenance": [],
      "toc_visible": true
    },
    "kernelspec": {
      "name": "python3",
      "display_name": "Python 3"
    },
    "language_info": {
      "name": "python"
    }
  },
  "cells": [
    {
      "cell_type": "markdown",
      "metadata": {
        "id": "oMkwgcg889FP"
      },
      "source": [
        "## Aula 22 - Wavelets"
      ]
    },
    {
      "cell_type": "markdown",
      "metadata": {
        "id": "mP6ZguqT9DMS"
      },
      "source": [
        "Compressão de imagens;"
      ]
    },
    {
      "cell_type": "code",
      "metadata": {
        "id": "-39xQjZA87wr"
      },
      "source": [
        "%matplotlib inline\n",
        "import cv2 # OpenCV\n",
        "import matplotlib.pyplot as plt # Matplotlib\n",
        "import numpy as np # Numpy\n",
        "import pywt"
      ],
      "execution_count": 1,
      "outputs": []
    },
    {
      "cell_type": "markdown",
      "metadata": {
        "id": "wnxFUvcA-Thm"
      },
      "source": [
        ""
      ]
    }
  ]
}