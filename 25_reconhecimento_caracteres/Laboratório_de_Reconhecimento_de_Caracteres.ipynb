{
  "nbformat": 4,
  "nbformat_minor": 0,
  "metadata": {
    "colab": {
      "name": "Laboratório de Reconhecimento de Caracteres",
      "provenance": [],
      "authorship_tag": "ABX9TyMk6T2ra4bXsgTOeC/lobry",
      "include_colab_link": true
    },
    "kernelspec": {
      "name": "python3",
      "display_name": "Python 3"
    },
    "language_info": {
      "name": "python"
    }
  },
  "cells": [
    {
      "cell_type": "markdown",
      "metadata": {
        "id": "view-in-github",
        "colab_type": "text"
      },
      "source": [
        "<a href=\"https://colab.research.google.com/github/wlcosta/es235_pdi/blob/master/25_reconhecimento_caracteres/Laborat%C3%B3rio_de_Reconhecimento_de_Caracteres.ipynb\" target=\"_parent\"><img src=\"https://colab.research.google.com/assets/colab-badge.svg\" alt=\"Open In Colab\"/></a>"
      ]
    },
    {
      "cell_type": "markdown",
      "metadata": {
        "id": "2zYGzmJEMNRf"
      },
      "source": [
        "# Reconhecimento de caracteres"
      ]
    },
    {
      "cell_type": "markdown",
      "metadata": {
        "id": "R8T7B_MuMRMm"
      },
      "source": [
        "## OCR usando kNN e OpenCV"
      ]
    },
    {
      "cell_type": "markdown",
      "metadata": {
        "id": "zEES9U92MWrU"
      },
      "source": [
        "Como já é de costume, vamos importar as bibliotecas necessárias"
      ]
    },
    {
      "cell_type": "code",
      "metadata": {
        "colab": {
          "base_uri": "https://localhost:8080/"
        },
        "id": "COFAgBvwIsBg",
        "outputId": "0c9cf297-e5f2-46b2-c0d0-363589229470"
      },
      "source": [
        "import numpy as np\n",
        "import cv2\n",
        "import matplotlib.pyplot as plt\n",
        "!wget https://raw.githubusercontent.com/wlcosta/es235_pdi/master/utils/digits.png"
      ],
      "execution_count": 31,
      "outputs": [
        {
          "output_type": "stream",
          "text": [
            "--2021-07-12 19:32:19--  https://raw.githubusercontent.com/wlcosta/es235_pdi/master/utils/digits.png\n",
            "Resolving raw.githubusercontent.com (raw.githubusercontent.com)... 185.199.111.133, 185.199.110.133, 185.199.108.133, ...\n",
            "Connecting to raw.githubusercontent.com (raw.githubusercontent.com)|185.199.111.133|:443... connected.\n",
            "HTTP request sent, awaiting response... 200 OK\n",
            "Length: 721129 (704K) [image/png]\n",
            "Saving to: ‘digits.png.1’\n",
            "\n",
            "digits.png.1        100%[===================>] 704.23K  --.-KB/s    in 0.06s   \n",
            "\n",
            "2021-07-12 19:32:19 (11.1 MB/s) - ‘digits.png.1’ saved [721129/721129]\n",
            "\n"
          ],
          "name": "stdout"
        }
      ]
    },
    {
      "cell_type": "markdown",
      "metadata": {
        "id": "PcsRmwAkNNSr"
      },
      "source": [
        "Nosso objetivo é criar uma aplicação que consiga ler dígitos manuscritos. Baixamos a imagem `digits.png`, que é uma imagem de exemplo do OpenCV. A imagem contém 5000 dígitos manuscritos (500 casos para cada dígito) com imagens de `20x20 pixels`.\n",
        "\n",
        "Então, vamos localizar essas regiões com os dígitos e recortá-las para preparar nossos conjuntos de teste e treino (250 para cada)."
      ]
    },
    {
      "cell_type": "code",
      "metadata": {
        "colab": {
          "base_uri": "https://localhost:8080/"
        },
        "id": "W0CjZcu8JVau",
        "outputId": "7aef4655-3e92-45af-e5dc-5a0eb866ffd4"
      },
      "source": [
        "img = cv2.imread('digits.png')\n",
        "gray = cv2.cvtColor(img, cv2.COLOR_BGR2GRAY)\n",
        "print(img.shape)\n",
        "\n",
        "# De acordo com a documentação, cada imagem é de tamanho 20x20. A imagem terá 5000 células.\n",
        "cells = [np.hsplit(row, 100) for row in np.vsplit(gray, 50)]\n",
        "x = np.array(cells)\n",
        "print(x.shape) # Deve ser 50, 100, 20, 20"
      ],
      "execution_count": 32,
      "outputs": [
        {
          "output_type": "stream",
          "text": [
            "(1000, 2000, 3)\n",
            "(50, 100, 20, 20)\n"
          ],
          "name": "stdout"
        }
      ]
    },
    {
      "cell_type": "code",
      "metadata": {
        "colab": {
          "base_uri": "https://localhost:8080/",
          "height": 283
        },
        "id": "zaRUa1K3J22g",
        "outputId": "9968aa33-7eaf-4e06-cd55-fc2919ad651a"
      },
      "source": [
        "plt.imshow(x[0][0])"
      ],
      "execution_count": 33,
      "outputs": [
        {
          "output_type": "execute_result",
          "data": {
            "text/plain": [
              "<matplotlib.image.AxesImage at 0x7f3d8e4d4a10>"
            ]
          },
          "metadata": {
            "tags": []
          },
          "execution_count": 33
        },
        {
          "output_type": "display_data",
          "data": {
            "image/png": "[encoded data removed]",
            "text/plain": [
              "<Figure size 432x288 with 1 Axes>"
            ]
          },
          "metadata": {
            "tags": [],
            "needs_background": "light"
          }
        }
      ]
    },
    {
      "cell_type": "markdown",
      "metadata": {
        "id": "wXkV4ek3Nzuc"
      },
      "source": [
        "Agora, vamos construir os conjuntos de teste e treino. Nesse exemplo, usaremos 50% para cada um.\n",
        "\n",
        "Você é extremamente encorajado a alterar esses valores e buscar uma melhor taxa de reconhecimento."
      ]
    },
    {
      "cell_type": "code",
      "metadata": {
        "colab": {
          "base_uri": "https://localhost:8080/"
        },
        "id": "mM9CYjjbKHhd",
        "outputId": "cc01d31a-977b-4f1c-d094-e28bb30b4259"
      },
      "source": [
        "train = x[:,:50].reshape(-1,400).astype(np.float32)\n",
        "test = x[:,50:100].reshape(-1,400).astype(np.float32)\n",
        "print(train.shape, test.shape)"
      ],
      "execution_count": 9,
      "outputs": [
        {
          "output_type": "stream",
          "text": [
            "(2500, 400) (2500, 400)\n"
          ],
          "name": "stdout"
        }
      ]
    },
    {
      "cell_type": "markdown",
      "metadata": {
        "id": "QfDDSYHSN-oE"
      },
      "source": [
        "Vamos gerar nossos labels. Lembrando que para aprendizagem supervisionada, precisamos de um par `(x, y)` de dados."
      ]
    },
    {
      "cell_type": "code",
      "metadata": {
        "colab": {
          "base_uri": "https://localhost:8080/"
        },
        "id": "DZVn0WhMKSy1",
        "outputId": "2005138a-9feb-40a9-81a4-85171ef53e97"
      },
      "source": [
        "k = np.arange(10)\n",
        "train_labels = np.repeat(k,250)[:,np.newaxis]\n",
        "test_labels = train_labels.copy()\n",
        "print(train_labels.shape, train_labels[0], train_labels[-1])"
      ],
      "execution_count": 10,
      "outputs": [
        {
          "output_type": "stream",
          "text": [
            "(2500, 1) [0] [9]\n"
          ],
          "name": "stdout"
        }
      ]
    },
    {
      "cell_type": "markdown",
      "metadata": {
        "id": "B-TR4NqaOGv2"
      },
      "source": [
        "Vamos criar nosso modelo e treinar no conjunto de dados."
      ]
    },
    {
      "cell_type": "code",
      "metadata": {
        "id": "1089-OM4Kh51"
      },
      "source": [
        "knn = cv2.ml.KNearest_create()\n",
        "knn.train(train, cv2.ml.ROW_SAMPLE, train_labels)\n",
        "ret, result, neighbours, dict = knn.findNearest(test, k=5)"
      ],
      "execution_count": 11,
      "outputs": []
    },
    {
      "cell_type": "markdown",
      "metadata": {
        "id": "jZm4SyDNONkL"
      },
      "source": [
        "Vamos gerar as métricas de acurácia."
      ]
    },
    {
      "cell_type": "code",
      "metadata": {
        "colab": {
          "base_uri": "https://localhost:8080/"
        },
        "id": "BumrIqS4KrUU",
        "outputId": "c870b59c-49d9-4155-8d53-222ba7785873"
      },
      "source": [
        "matches = result == test_labels\n",
        "correct = np.count_nonzero(matches)\n",
        "accuracy = correct*100.0/result.size\n",
        "print(accuracy)"
      ],
      "execution_count": 12,
      "outputs": [
        {
          "output_type": "stream",
          "text": [
            "91.76\n"
          ],
          "name": "stdout"
        }
      ]
    },
    {
      "cell_type": "code",
      "metadata": {
        "colab": {
          "base_uri": "https://localhost:8080/",
          "height": 283
        },
        "id": "5C5HD2NxK-zP",
        "outputId": "6e792b76-e63e-45d4-ca0e-b85b21edfd95"
      },
      "source": [
        "input = x[np.random.randint(0,50)][np.random.randint(50, 100)]\n",
        "plt.imshow(input)\n",
        "ret, result, neighbours, dict = knn.findNearest(input.reshape(-1,400).astype(np.float32), k=5)\n",
        "print(result)"
      ],
      "execution_count": 35,
      "outputs": [
        {
          "output_type": "stream",
          "text": [
            "[[0.]]\n"
          ],
          "name": "stdout"
        },
        {
          "output_type": "display_data",
          "data": {
            "image/png": "[encoded data removed]",
            "text/plain": [
              "<Figure size 432x288 with 1 Axes>"
            ]
          },
          "metadata": {
            "tags": [],
            "needs_background": "light"
          }
        }
      ]
    },
    {
      "cell_type": "markdown",
      "metadata": {
        "id": "GSesoYW3OVAD"
      },
      "source": [
        "## Abordagem com Tesseract"
      ]
    },
    {
      "cell_type": "markdown",
      "metadata": {
        "id": "ZZcoaDIROg2j"
      },
      "source": [
        "Vamos instalar o `Pytesseract` e o `tesseract-ocr`."
      ]
    },
    {
      "cell_type": "code",
      "metadata": {
        "colab": {
          "base_uri": "https://localhost:8080/"
        },
        "id": "YbTnjD7gOgJd",
        "outputId": "e1edde41-815a-4409-d2b4-e4e6a35aab0a"
      },
      "source": [
        "!sudo apt install tesseract-ocr\n",
        "!pip install pytesseract"
      ],
      "execution_count": 36,
      "outputs": [
        {
          "output_type": "stream",
          "text": [
            "Reading package lists... Done\n",
            "Building dependency tree       \n",
            "Reading state information... Done\n",
            "The following additional packages will be installed:\n",
            "  tesseract-ocr-eng tesseract-ocr-osd\n",
            "The following NEW packages will be installed:\n",
            "  tesseract-ocr tesseract-ocr-eng tesseract-ocr-osd\n",
            "0 upgraded, 3 newly installed, 0 to remove and 39 not upgraded.\n",
            "Need to get 4,795 kB of archives.\n",
            "After this operation, 15.8 MB of additional disk space will be used.\n",
            "Get:1 http://archive.ubuntu.com/ubuntu bionic/universe amd64 tesseract-ocr-eng all 4.00~git24-0e00fe6-1.2 [1,588 kB]\n",
            "Get:2 http://archive.ubuntu.com/ubuntu bionic/universe amd64 tesseract-ocr-osd all 4.00~git24-0e00fe6-1.2 [2,989 kB]\n",
            "Get:3 http://archive.ubuntu.com/ubuntu bionic/universe amd64 tesseract-ocr amd64 4.00~git2288-10f4998a-2 [218 kB]\n",
            "Fetched 4,795 kB in 1s (3,647 kB/s)\n",
            "debconf: unable to initialize frontend: Dialog\n",
            "debconf: (No usable dialog-like program is installed, so the dialog based frontend cannot be used. at /usr/share/perl5/Debconf/FrontEnd/Dialog.pm line 76, <> line 3.)\n",
            "debconf: falling back to frontend: Readline\n",
            "debconf: unable to initialize frontend: Readline\n",
            "debconf: (This frontend requires a controlling tty.)\n",
            "debconf: falling back to frontend: Teletype\n",
            "dpkg-preconfigure: unable to re-open stdin: \n",
            "Selecting previously unselected package tesseract-ocr-eng.\n",
            "(Reading database ... 160815 files and directories currently installed.)\n",
            "Preparing to unpack .../tesseract-ocr-eng_4.00~git24-0e00fe6-1.2_all.deb ...\n",
            "Unpacking tesseract-ocr-eng (4.00~git24-0e00fe6-1.2) ...\n",
            "Selecting previously unselected package tesseract-ocr-osd.\n",
            "Preparing to unpack .../tesseract-ocr-osd_4.00~git24-0e00fe6-1.2_all.deb ...\n",
            "Unpacking tesseract-ocr-osd (4.00~git24-0e00fe6-1.2) ...\n",
            "Selecting previously unselected package tesseract-ocr.\n",
            "Preparing to unpack .../tesseract-ocr_4.00~git2288-10f4998a-2_amd64.deb ...\n",
            "Unpacking tesseract-ocr (4.00~git2288-10f4998a-2) ...\n",
            "Setting up tesseract-ocr-osd (4.00~git24-0e00fe6-1.2) ...\n",
            "Setting up tesseract-ocr-eng (4.00~git24-0e00fe6-1.2) ...\n",
            "Setting up tesseract-ocr (4.00~git2288-10f4998a-2) ...\n",
            "Processing triggers for man-db (2.8.3-2ubuntu0.1) ...\n",
            "Collecting pytesseract\n",
            "  Downloading https://files.pythonhosted.org/packages/a3/c9/d6e8903482bd6fb994c32722831d15842dd8b614f94ad9ca735807252671/pytesseract-0.3.8.tar.gz\n",
            "Requirement already satisfied: Pillow in /usr/local/lib/python3.7/dist-packages (from pytesseract) (7.1.2)\n",
            "Building wheels for collected packages: pytesseract\n",
            "  Building wheel for pytesseract (setup.py) ... \u001b[?25l\u001b[?25hdone\n",
            "  Created wheel for pytesseract: filename=pytesseract-0.3.8-py2.py3-none-any.whl size=14071 sha256=5104a9f1ead2fcd3ba9acfeec1340e0ad175f82f9480d7278a389d642f82c862\n",
            "  Stored in directory: /root/.cache/pip/wheels/a2/66/45/88bf1b2d428817a006944b9730b27d6861b776e05a9e262bd4\n",
            "Successfully built pytesseract\n",
            "Installing collected packages: pytesseract\n",
            "Successfully installed pytesseract-0.3.8\n"
          ],
          "name": "stdout"
        }
      ]
    },
    {
      "cell_type": "markdown",
      "metadata": {
        "id": "xHo5M__zOsxy"
      },
      "source": [
        "!wget https://raw.githubusercontent.com/wlcosta/es235_pdi/master/utils/font_test.png"
      ]
    },
    {
      "cell_type": "code",
      "metadata": {
        "id": "FFD3_iL9Phgr"
      },
      "source": [
        "import pytesseract\n",
        "from PIL import Image"
      ],
      "execution_count": 41,
      "outputs": []
    },
    {
      "cell_type": "code",
      "metadata": {
        "id": "exjt_QmIPu_j"
      },
      "source": [
        "!wget https://raw.githubusercontent.com/wlcosta/es235_pdi/master/utils/font_test.png\n",
        "img = Image.open('font_test.png')\n",
        "ocr = pytesseract.image_to_string(img)"
      ],
      "execution_count": null,
      "outputs": []
    },
    {
      "cell_type": "code",
      "metadata": {
        "colab": {
          "base_uri": "https://localhost:8080/",
          "height": 287
        },
        "id": "uUFx0Xx4PxXr",
        "outputId": "787e3045-6ed2-4937-f882-2f1a9c334a49"
      },
      "source": [
        "plt.imshow(img)"
      ],
      "execution_count": 43,
      "outputs": [
        {
          "output_type": "execute_result",
          "data": {
            "text/plain": [
              "<matplotlib.image.AxesImage at 0x7f3d8e5b4190>"
            ]
          },
          "metadata": {
            "tags": []
          },
          "execution_count": 43
        },
        {
          "output_type": "display_data",
          "data": {
            "image/png": "[encoded data removed]",
            "text/plain": [
              "<Figure size 432x288 with 1 Axes>"
            ]
          },
          "metadata": {
            "tags": [],
            "needs_background": "light"
          }
        }
      ]
    },
    {
      "cell_type": "code",
      "metadata": {
        "colab": {
          "base_uri": "https://localhost:8080/"
        },
        "id": "H3x2WqnfPVyb",
        "outputId": "beec40ab-13ef-43ae-80aa-08719c42f007"
      },
      "source": [
        "print(ocr)"
      ],
      "execution_count": 44,
      "outputs": [
        {
          "output_type": "stream",
          "text": [
            "This is a lot of 12 point text to test the\n",
            "ocr code and see if it works on all types\n",
            "of file format.\n",
            "\n",
            "The quick brown dog jumped over the\n",
            "lazy fox. The quick brown dog jumped\n",
            "over the lazy fox. The quick brown dog\n",
            "jumped over the lazy fox. The quick\n",
            "brown dog jumped over the lazy fox.\n",
            "\f\n"
          ],
          "name": "stdout"
        }
      ]
    },
    {
      "cell_type": "code",
      "metadata": {
        "colab": {
          "base_uri": "https://localhost:8080/"
        },
        "id": "qGnmxcj9PWbU",
        "outputId": "074dfa0d-e1e0-46bd-c1dc-191079c69967"
      },
      "source": [
        "!wget https://raw.githubusercontent.com/wlcosta/es235_pdi/master/utils/more_tesseract/alice.jpg\n",
        "!wget https://raw.githubusercontent.com/wlcosta/es235_pdi/master/utils/more_tesseract/cardapio.jpg\n",
        "!wget https://raw.githubusercontent.com/wlcosta/es235_pdi/master/utils/more_tesseract/table.jpg\n",
        "!wget https://raw.githubusercontent.com/wlcosta/es235_pdi/master/utils/more_tesseract/invoice-sample.jpg"
      ],
      "execution_count": 59,
      "outputs": [
        {
          "output_type": "stream",
          "text": [
            "--2021-07-12 19:58:49--  https://raw.githubusercontent.com/wlcosta/es235_pdi/master/utils/more_tesseract/alice.jpg\n",
            "Resolving raw.githubusercontent.com (raw.githubusercontent.com)... 185.199.108.133, 185.199.109.133, 185.199.110.133, ...\n",
            "Connecting to raw.githubusercontent.com (raw.githubusercontent.com)|185.199.108.133|:443... connected.\n",
            "HTTP request sent, awaiting response... 200 OK\n",
            "Length: 305886 (299K) [image/jpeg]\n",
            "Saving to: ‘alice.jpg.1’\n",
            "\n",
            "\ralice.jpg.1           0%[                    ]       0  --.-KB/s               \ralice.jpg.1         100%[===================>] 298.72K  --.-KB/s    in 0.03s   \n",
            "\n",
            "2021-07-12 19:58:49 (8.53 MB/s) - ‘alice.jpg.1’ saved [305886/305886]\n",
            "\n",
            "--2021-07-12 19:58:49--  https://raw.githubusercontent.com/wlcosta/es235_pdi/master/utils/more_tesseract/cardapio.jpg\n",
            "Resolving raw.githubusercontent.com (raw.githubusercontent.com)... 185.199.108.133, 185.199.109.133, 185.199.110.133, ...\n",
            "Connecting to raw.githubusercontent.com (raw.githubusercontent.com)|185.199.108.133|:443... connected.\n",
            "HTTP request sent, awaiting response... 200 OK\n",
            "Length: 41541 (41K) [image/jpeg]\n",
            "Saving to: ‘cardapio.jpg.1’\n",
            "\n",
            "cardapio.jpg.1      100%[===================>]  40.57K  --.-KB/s    in 0.003s  \n",
            "\n",
            "2021-07-12 19:58:50 (12.3 MB/s) - ‘cardapio.jpg.1’ saved [41541/41541]\n",
            "\n",
            "--2021-07-12 19:58:50--  https://raw.githubusercontent.com/wlcosta/es235_pdi/master/utils/more_tesseract/table.jpg\n",
            "Resolving raw.githubusercontent.com (raw.githubusercontent.com)... 185.199.108.133, 185.199.109.133, 185.199.110.133, ...\n",
            "Connecting to raw.githubusercontent.com (raw.githubusercontent.com)|185.199.108.133|:443... connected.\n",
            "HTTP request sent, awaiting response... 200 OK\n",
            "Length: 39054 (38K) [image/jpeg]\n",
            "Saving to: ‘table.jpg.1’\n",
            "\n",
            "table.jpg.1         100%[===================>]  38.14K  --.-KB/s    in 0.003s  \n",
            "\n",
            "2021-07-12 19:58:50 (12.1 MB/s) - ‘table.jpg.1’ saved [39054/39054]\n",
            "\n",
            "--2021-07-12 19:58:50--  https://raw.githubusercontent.com/wlcosta/es235_pdi/master/utils/more_tesseract/invoice-sample.jpg\n",
            "Resolving raw.githubusercontent.com (raw.githubusercontent.com)... 185.199.108.133, 185.199.109.133, 185.199.110.133, ...\n",
            "Connecting to raw.githubusercontent.com (raw.githubusercontent.com)|185.199.108.133|:443... connected.\n",
            "HTTP request sent, awaiting response... 200 OK\n",
            "Length: 69157 (68K) [image/jpeg]\n",
            "Saving to: ‘invoice-sample.jpg’\n",
            "\n",
            "invoice-sample.jpg  100%[===================>]  67.54K  --.-KB/s    in 0.01s   \n",
            "\n",
            "2021-07-12 19:58:50 (5.62 MB/s) - ‘invoice-sample.jpg’ saved [69157/69157]\n",
            "\n"
          ],
          "name": "stdout"
        }
      ]
    },
    {
      "cell_type": "code",
      "metadata": {
        "colab": {
          "base_uri": "https://localhost:8080/",
          "height": 1000
        },
        "id": "SKoLbL7ER86V",
        "outputId": "1798bcd9-ba94-47b4-a082-dbcd47132ba3"
      },
      "source": [
        "imagem = \"invoice-sample\" #@param [\"alice\", \"cardapio\", \"table\", \"invoice-sample\"]\n",
        "filename = imagem+\".jpg\"\n",
        "\n",
        "img = Image.open(filename)\n",
        "ocr = pytesseract.image_to_string(img)\n",
        "print(ocr)\n",
        "plt.imshow(img)"
      ],
      "execution_count": 60,
      "outputs": [
        {
          "output_type": "stream",
          "text": [
            "’ Invoice\n",
            "\n",
            "Your Company LLC Address 123, State, My Country P 111-222-333, F 111-222-334\n",
            "\n",
            "BILL TO:\n",
            "John Doe\n",
            "\n",
            "‘Alpha Bravo Road 33\n",
            "\n",
            "P: 111-222-333, F: 111-222-334\n",
            "client@example.net\n",
            "\n",
            "SHIPPING TO:\n",
            "John Doe Office\n",
            "\n",
            "Office Road 38,\n",
            "\n",
            "P: 111-333-222, F: 122-222-834\n",
            "office@example.net\n",
            "\n",
            "http://mrsinvoice.com\n",
            "\n",
            " \n",
            "\n",
            " \n",
            "\n",
            " \n",
            "\n",
            " \n",
            "\n",
            " \n",
            "\n",
            "Invoice # 00001\n",
            "Invoice Date 12/12/2001\n",
            "Name of Rep. Bob\n",
            "\n",
            "Contact Phone 101-102-103\n",
            "\n",
            " \n",
            "\n",
            "Payment Terms\n",
            "\n",
            " \n",
            "\n",
            " \n",
            "\n",
            "Cash on Delivery\n",
            "\n",
            " \n",
            "\n",
            " \n",
            "\n",
            "Amount Due: $4,170\n",
            "\n",
            " \n",
            "\n",
            " \n",
            "\n",
            " \n",
            "\n",
            " \n",
            "\n",
            "NO PRODUCTS / SERVICE QUANTITY / RATE / UNIT AMOUNT\n",
            "HOURS: PRICE\n",
            "\n",
            "1 tye 2 $20 $40\n",
            "\n",
            "2__| Steering Wheel 5 $10 $50\n",
            "\n",
            "3 | Engine oil 10 $15 $150\n",
            "\n",
            "4 | Brake Pad 24 $1000 $2,400\n",
            "\n",
            "Subtotal $275\n",
            "\n",
            "Tax (10%) $27.5\n",
            "\n",
            "Grand Total $202.5\n",
            "\n",
            "‘THANK YOU FOR YOUR BUSINESS\n",
            "\f\n"
          ],
          "name": "stdout"
        },
        {
          "output_type": "execute_result",
          "data": {
            "text/plain": [
              "<matplotlib.image.AxesImage at 0x7f3d8f234190>"
            ]
          },
          "metadata": {
            "tags": []
          },
          "execution_count": 60
        },
        {
          "output_type": "display_data",
          "data": {
            "image/png": "[encoded data removed]",
            "text/plain": [
              "<Figure size 432x288 with 1 Axes>"
            ]
          },
          "metadata": {
            "tags": [],
            "needs_background": "light"
          }
        }
      ]
    },
    {
      "cell_type": "code",
      "metadata": {
        "colab": {
          "base_uri": "https://localhost:8080/",
          "height": 287
        },
        "id": "ucGjN9IrTZY-",
        "outputId": "144623dc-b19b-455e-87a7-1f352da73ae3"
      },
      "source": [
        "from pytesseract import Output\n",
        "img = cv2.cvtColor(cv2.imread(\"invoice-sample.jpg\"), cv2.COLOR_BGR2RGB)\n",
        "d = pytesseract.image_to_data(img, output_type=Output.DICT)\n",
        "n_boxes = len(d['text'])\n",
        "for i in range(n_boxes):\n",
        "    if int(d['conf'][i]) > 60:\n",
        "        (x, y, w, h) = (d['left'][i], d['top'][i], d['width'][i], d['height'][i])\n",
        "        img = cv2.rectangle(img, (x, y), (x + w, y + h), (0, 255, 0), 2)\n",
        "\n",
        "plt.imshow(img)"
      ],
      "execution_count": 63,
      "outputs": [
        {
          "output_type": "execute_result",
          "data": {
            "text/plain": [
              "<matplotlib.image.AxesImage at 0x7f3d8e3484d0>"
            ]
          },
          "metadata": {
            "tags": []
          },
          "execution_count": 63
        },
        {
          "output_type": "display_data",
          "data": {
            "image/png": "[encoded data removed]",
            "text/plain": [
              "<Figure size 432x288 with 1 Axes>"
            ]
          },
          "metadata": {
            "tags": [],
            "needs_background": "light"
          }
        }
      ]
    }
  ]
}